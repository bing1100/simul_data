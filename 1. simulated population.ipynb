{
 "cells": [
  {
   "cell_type": "code",
   "execution_count": null,
   "metadata": {},
   "outputs": [],
   "source": [
    "import calendar\n",
    "import numpy as np\n",
    "import pandas as pd\n",
    "import scipy as sp\n",
    "from random_address import real_random_address, real_random_address_by_state\n",
    "\n",
    "def sample_cdf(cdf, sample_size):\n",
    "    def _helper(cdf, prob):\n",
    "        for i, p in enumerate(cdf):\n",
    "            if prob < p:\n",
    "                return i-1\n",
    "    return [_helper(cdf, prob) for prob in np.random.random(size=sample_size)]\n",
    "\n",
    "class simdata:\n",
    "    def __init__(self, population_size, curr_year):\n",
    "        self.curr_year = curr_year\n",
    "        self.population_size = population_size\n",
    "\n",
    "        census = pd.read_csv(\"./qid/census.csv\")\n",
    "        occupations = pd.read_csv(\"./qid/occupations.csv\")\n",
    "        marital_statuses = pd.read_csv(\"./qid/marital.csv\")\n",
    "        ethnicities = pd.read_csv(\"./qid/ethnicity.csv\")\n",
    "\n",
    "        tot = census[\"men\"]+census[\"woman\"]\n",
    "        age_pdf = tot / sum(tot)\n",
    "        age_cdf = [sum(age_pdf[:i+1]) for i in range(len(age_pdf.values))]\n",
    "        gender_p = census[\"men\"] / tot\n",
    "\n",
    "        ages = sample_cdf(age_cdf, self.population_size)\n",
    "        genders = [\"m\" if np.random.random() < gender_p[age] else \"f\" for age in ages]\n",
    "\n",
    "        bday = [curr_year-age for age in ages]\n",
    "\n",
    "        addresses = [real_random_address_by_state('32409') for _ in range(len(population_size))]\n",
    "        street = [add[\"address1\"] for add in addresses]\n",
    "        city = [add[\"city\"] for add in addresses]\n",
    "        state = [add[\"state\"] for add in addresses]\n",
    "        postalCode = [add[\"postalCode\"] for add in addresses]\n",
    "        \n",
    "        # occupation\n",
    "        #   randomly get from occupation.csv\n",
    "\n",
    "        # marital status\n",
    "        #   uniform from csv \n",
    "\n",
    "        # race\n",
    "        #   uniform from csv\n",
    "        pass\n",
    "\n",
    "    def add_quasiid(self, idname, func):\n",
    "        # map func over data\n",
    "        pass\n",
    "\n",
    "    def define_datum(self, fit_data, sensitive_data):\n",
    "        # fit_data - existing dataset to model data from and combine with quasiid\n",
    "        #   diabetes\n",
    "        # sensitive data - additional distributions / datasets to simulated sensitive fields\n",
    "        #   categorical\n",
    "        #   dlgn\n",
    "        pass\n",
    "        \n",
    "    def trainset(self, sample_size, columns):\n",
    "        # sample from population - return columns \n",
    "        pass\n",
    "\n",
    "    def population(self):\n",
    "        # get the whole population \n",
    "        pass\n",
    "\n",
    "class privacy:\n",
    "    def __init__(self):\n",
    "        pass\n",
    "\n",
    "    def idr(self, syndata, population, qids, svs):\n",
    "        pass"
   ]
  },
  {
   "cell_type": "code",
   "execution_count": null,
   "metadata": {},
   "outputs": [
    {
     "name": "stdout",
     "output_type": "stream",
     "text": [
      "[{'address1': '6420 Via Baron', 'address2': '', 'city': 'Rancho Palos Verdes', 'state': 'CA', 'postalCode': '90275', 'coordinates': {'lat': 33.741162, 'lng': -118.390767}}, {'address1': '637 Britannia Drive', 'address2': '', 'city': 'Vallejo', 'state': 'CA', 'postalCode': '94591', 'coordinates': {'lat': 38.10476999999999, 'lng': -122.193849}}, {'address1': '2042 High Street', 'address2': '', 'city': 'Oakland', 'state': 'CA', 'postalCode': '94601', 'coordinates': {'lat': 37.776415, 'lng': -122.209418}}, {'address1': '61 Callahan Way', 'address2': '#B4', 'city': 'Mammoth Lakes', 'state': 'CA', 'postalCode': '93546', 'coordinates': {'lat': 37.647421, 'lng': -118.978423}}, {'address1': '1937 Carleton Street', 'address2': 'M', 'city': 'Berkeley', 'state': 'CA', 'postalCode': '94704', 'coordinates': {'lat': 37.861126, 'lng': -122.270083}}, {'address1': '2531 Prestwick Avenue', 'address2': '', 'city': 'Concord', 'state': 'CA', 'postalCode': '94519', 'coordinates': {'lat': 37.9966039, 'lng': -122.0280747}}, {'address1': '3318 East Woodbine Road', 'address2': '', 'city': 'Orange', 'state': 'CA', 'postalCode': '92867', 'coordinates': {'lat': 33.835, 'lng': -117.818473}}, {'address1': '465 Humboldt Way', 'address2': '', 'city': 'Livermore', 'state': 'CA', 'postalCode': '94551', 'coordinates': {'lat': 37.6958861, 'lng': -121.7952093}}, {'address1': '3538 Mendenhall Court', 'address2': '', 'city': 'Pleasanton', 'state': 'CA', 'postalCode': '94588', 'coordinates': {'lat': 37.6991919, 'lng': -121.85909}}, {'address1': '30451 Servilla Place', 'address2': '', 'city': 'Castaic', 'state': 'CA', 'postalCode': '91384', 'coordinates': {'lat': 34.47215, 'lng': -118.643301}}]\n"
     ]
    }
   ],
   "source": [
    "real_random_address_by_state('CA')\n",
    "\n",
    "print([real_random_address_by_state('CA') for i in range(10)])"
   ]
  },
  {
   "cell_type": "code",
   "execution_count": null,
   "metadata": {},
   "outputs": [],
   "source": [
    "occupations = pd.read_csv(\"./qid/occupations.csv\")\n",
    "marital_statuses = pd.read_csv(\"./qid/marital.csv\")\n",
    "ethnicities = pd.read_csv(\"./qid/ethnicity.csv\")\n",
    "\n"
   ]
  },
  {
   "cell_type": "code",
   "execution_count": null,
   "metadata": {},
   "outputs": [],
   "source": [
    "# define simdata\n",
    "\n",
    "# generate simdata\n",
    "\n",
    "# train sdv with simdata\n",
    "\n",
    "# compute privacy with synthetic data\n",
    "\n",
    "# report\n",
    "\n"
   ]
  }
 ],
 "metadata": {
  "kernelspec": {
   "display_name": "simdata",
   "language": "python",
   "name": "python3"
  },
  "language_info": {
   "codemirror_mode": {
    "name": "ipython",
    "version": 3
   },
   "file_extension": ".py",
   "mimetype": "text/x-python",
   "name": "python",
   "nbconvert_exporter": "python",
   "pygments_lexer": "ipython3",
   "version": "3.12.7"
  }
 },
 "nbformat": 4,
 "nbformat_minor": 2
}
